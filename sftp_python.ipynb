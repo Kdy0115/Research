{
 "cells": [
  {
   "cell_type": "markdown",
   "metadata": {},
   "source": [
    "## SFTP通信で定期的にWebサーバから画像を取り出すプログラム"
   ]
  },
  {
   "cell_type": "code",
   "execution_count": null,
   "metadata": {},
   "outputs": [],
   "source": [
    "import paramiko # 通信用ライブラリ\n",
    "import schedule # 定期実行用ライブラリ\n",
    "import time"
   ]
  },
  {
   "cell_type": "code",
   "execution_count": null,
   "metadata": {},
   "outputs": [],
   "source": [
    "# カメラのIPアドレスの設定\n",
    "# 接続するカメラの設定（6台分）\n",
    "remote_param = []\n",
    "remote_param.append({'HOST':'IPアドレス','PORT':22,'USER':'ユーザ名','PASS':'パスワード'})\n",
    "remote_param.append({'HOST':'IPアドレス','PORT':22,'USER':'ユーザ名','PASS':'パスワード'})\n",
    "remote_param.append({'HOST':'IPアドレス','PORT':22,'USER':'ユーザ名','PASS':'パスワード'})\n",
    "remote_param.append({'HOST':'IPアドレス','PORT':22,'USER':'ユーザ名','PASS':'パスワード'})\n",
    "remote_param.append({'HOST':'IPアドレス','PORT':22,'USER':'ユーザ名','PASS':'パスワード'})\n",
    "remote_param.append({'HOST':'IPアドレス','PORT':22,'USER':'ユーザ名','PASS':'パスワード'})\n",
    "\n",
    "# ダウンロード元と先の設定\n",
    "remote_dir = '/***/***' # ダウンロード元PATH\n",
    "download_dir = '***\\\\***\\\\'# ダウンロード先の共通フォルダPATH"
   ]
  },
  {
   "cell_type": "code",
   "execution_count": 23,
   "metadata": {},
   "outputs": [],
   "source": [
    "# INIT関数（サーバ内データクリア）\n",
    "# Webサーバ内の画像フォルダを空にする\n",
    "def clear_server(HOST,PORT,SFTP_USER,SFTP_PASSWORD,REMOTE_DIR):\n",
    "    client = paramiko.SSHClient()\n",
    "    client.set_missing_host_key_policy(paramiko.AutoAddPolicy)\n",
    "    client.connect(HOST,port=PORT,username=SFTP_USER,password=SFTP_PASSWORD)\n",
    "    \n",
    "    sftp_connection = client.open_sftp()\n",
    "    sftp_connection.chdir(REMOTE_DIR)\n",
    "    print(sftp_connection.listdir())\n",
    "    \n",
    "    for _files in sftp_connection.listdir():\n",
    "        if 'jpg' in _files: # jpgファイルを削除\n",
    "            sftp_connection.remove(REMOTE_DIR+'/'+_files)\n",
    "    sftp_connection.close()"
   ]
  },
  {
   "cell_type": "code",
   "execution_count": 26,
   "metadata": {},
   "outputs": [],
   "source": [
    "# 設定したIPアドレスをSFTPで接続してクライアント情報を返す\n",
    "def init_connect_sftp(HOST,PORT,SFTP_USER,SFTP_PASSWORD):\n",
    "    client = paramiko.SSHClient()\n",
    "    client.set_missing_host_key_policy(paramiko.AutoAddPolicy)\n",
    "    client.connect(HOST,port=PORT,username=SFTP_USER,password=SFTP_PASSWORD)\n",
    "    \n",
    "    return client"
   ]
  },
  {
   "cell_type": "code",
   "execution_count": 28,
   "metadata": {},
   "outputs": [],
   "source": [
    "def sftp_download(HOST,PORT,SFTP_USER,SFTP_PASSWORD,REMOTE_DIR,DOWNLOAD_DIR,client):\n",
    "    sftp_connection = client.open_sftp()\n",
    "    sftp_connection.chdir(REMOTE_DIR)\n",
    "    \n",
    "    for _files in sftp_connection.listdir():\n",
    "        if '.jpg' in _files:\n",
    "            sftp_connection.get(_files,DOWNLOAD_DIR + HOST + '\\\\' +_files)\n",
    "            sftp_connection.remove(REMOTE_DIR+'/'+_files)\n",
    "    sftp_connection.close()"
   ]
  },
  {
   "cell_type": "code",
   "execution_count": null,
   "metadata": {},
   "outputs": [],
   "source": [
    "sftp_client = []\n",
    "for param in remote_param:\n",
    "    clear_server(param['HOST'],param['PORT'],param['USER'],param['PASS'],remote_dir)# Webサーバ内jpgファイル削除\n",
    "    sftp_client.append(init_connect_sftp(param['HOST'],param['PORT'],param['USER'],param['PASS'])) # 新たにSFTP通信の確立"
   ]
  },
  {
   "cell_type": "code",
   "execution_count": 29,
   "metadata": {},
   "outputs": [],
   "source": [
    "# 定期実行するジョブの定義\n",
    "def job():\n",
    "    for param,client in zip(remote_param,sftp_client):\n",
    "        sftp_download(param['HOST'],param['PORT'],param['USER'],param['PASS'],remote_dir,download_dir,client) # jpgファイルをダウンロード"
   ]
  },
  {
   "cell_type": "code",
   "execution_count": 30,
   "metadata": {},
   "outputs": [
    {
     "data": {
      "text/plain": [
       "Every 1 minute do job() (last run: [never], next run: 2020-07-06 15:43:33)"
      ]
     },
     "execution_count": 30,
     "metadata": {},
     "output_type": "execute_result"
    }
   ],
   "source": [
    "# 指定した時間（分）でjob()を実行\n",
    "schedule.every(\"時間を入れる\").minutes.do(job)"
   ]
  },
  {
   "cell_type": "code",
   "execution_count": 31,
   "metadata": {},
   "outputs": [
    {
     "ename": "KeyboardInterrupt",
     "evalue": "",
     "output_type": "error",
     "traceback": [
      "\u001b[1;31m---------------------------------------------------------------------------\u001b[0m",
      "\u001b[1;31mKeyboardInterrupt\u001b[0m                         Traceback (most recent call last)",
      "\u001b[1;32m<ipython-input-31-2d78333a8181>\u001b[0m in \u001b[0;36m<module>\u001b[1;34m\u001b[0m\n\u001b[0;32m      1\u001b[0m \u001b[1;32mwhile\u001b[0m \u001b[1;32mTrue\u001b[0m\u001b[1;33m:\u001b[0m\u001b[1;33m\u001b[0m\u001b[1;33m\u001b[0m\u001b[0m\n\u001b[0;32m      2\u001b[0m     \u001b[0mschedule\u001b[0m\u001b[1;33m.\u001b[0m\u001b[0mrun_pending\u001b[0m\u001b[1;33m(\u001b[0m\u001b[1;33m)\u001b[0m\u001b[1;33m\u001b[0m\u001b[1;33m\u001b[0m\u001b[0m\n\u001b[1;32m----> 3\u001b[1;33m     \u001b[0mtime\u001b[0m\u001b[1;33m.\u001b[0m\u001b[0msleep\u001b[0m\u001b[1;33m(\u001b[0m\u001b[1;36m1\u001b[0m\u001b[1;33m)\u001b[0m\u001b[1;33m\u001b[0m\u001b[1;33m\u001b[0m\u001b[0m\n\u001b[0m",
      "\u001b[1;31mKeyboardInterrupt\u001b[0m: "
     ]
    }
   ],
   "source": [
    "# 設定した定期実行ファイルを無限ループで動かす\n",
    "while True:\n",
    "    schedule.run_pending()\n",
    "    time.sleep(1)"
   ]
  }
 ],
 "metadata": {
  "kernelspec": {
   "display_name": "Python 3",
   "language": "python",
   "name": "python3"
  },
  "language_info": {
   "codemirror_mode": {
    "name": "ipython",
    "version": 3
   },
   "file_extension": ".py",
   "mimetype": "text/x-python",
   "name": "python",
   "nbconvert_exporter": "python",
   "pygments_lexer": "ipython3",
   "version": "3.7.6"
  }
 },
 "nbformat": 4,
 "nbformat_minor": 2
}
